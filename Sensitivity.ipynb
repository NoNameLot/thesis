{
 "cells": [
  {
   "cell_type": "code",
   "execution_count": null,
   "metadata": {},
   "outputs": [],
   "source": [
    "import numpy as np\n",
    "import networkx as nx\n",
    "import matplotlib.pyplot as plt\n",
    "import matplotlib.colors as mcolors"
   ]
  },
  {
   "cell_type": "code",
   "execution_count": 88,
   "metadata": {},
   "outputs": [],
   "source": [
    "# Parameters\n",
    "S0 = 75                             # Initial stock price\n",
    "F = 100                             # Face value of the bond\n",
    "X = 100                             # Strike price for conversion\n",
    "T = 5                               # Time to maturity (in years)\n",
    "r = 0.07                            # Risk-free rate\n",
    "q = 0\n",
    "b = r - q\n",
    "k = 0.03                            # Credit spread\n",
    "sigma = 0.2                         # Volatility\n",
    "dt = 1\n",
    "coupon = 6                          # Coupon payment per year\n",
    "m = 1                               # Conversion ratio (1 bond = 1 stock)\n",
    "N = 5                               # Number of time steps\n",
    "conversion_ratio = F / X            # Conversion ratio\n",
    "\n",
    "# Convertible bond pricing model (Cox-Ross-Rubinstein method)\n",
    "def CRR_convertible_bond(S0, F, T, r, k, coupon, conversion_ratio, N, sigma, AmeEur='e'):\n",
    "    # Time step\n",
    "    dt = T / N\n",
    "    u = np.exp(sigma * np.sqrt(dt))     # Up factor\n",
    "    d = 1 / u                           # Down factor\n",
    "    p = (np.exp(r * dt) - d) / (u - d)  # Risk-neutral probability\n",
    "\n",
    "    # Create the binomial stock price tree\n",
    "    StockPrice = np.zeros((N + 1, N + 1))\n",
    "    for i in range(N + 1):\n",
    "        for j in range(i + 1):\n",
    "            StockPrice[j, i] = S0 * (u ** j) * (d ** (i - j))\n",
    "\n",
    "    # Create the bond price tree (including coupon payments)\n",
    "    BondPrice = np.zeros((N + 1, N + 1))\n",
    "    # Create the conversion probability tree\n",
    "    ConversionProbability = np.zeros((N + 1, N + 1))\n",
    "\n",
    "    # Calculate bond prices and conversion probabilities at maturity\n",
    "    for j in range(N + 1):\n",
    "        stock_price = StockPrice[j, N]\n",
    "        bond_value_at_maturity = max(conversion_ratio * stock_price, F + coupon)\n",
    "        BondPrice[j, N] = bond_value_at_maturity\n",
    "        # Conversion probability is 1 if conversion is optimal at maturity\n",
    "        ConversionProbability[j, N] = 1 if conversion_ratio * stock_price > F + coupon else 0\n",
    "\n",
    "    # Initialize coupon timing and time management\n",
    "    CouponTime = T  # Initial coupon time matches maturity\n",
    "\n",
    "    # Backward calculation for bond price and conversion probability\n",
    "    for i in range(N - 1, -1, -1):\n",
    "        if CouponTime != (T - np.ceil((N - i + 1) * dt)):\n",
    "            CouponPayment = 1  # It's time to pay a coupon\n",
    "            CouponTime = T - np.ceil((N - i) * dt)\n",
    "            Time = CouponTime - dt * i\n",
    "        else:\n",
    "            CouponPayment = 0\n",
    "\n",
    "        for j in range(i + 1):\n",
    "            stock_price = StockPrice[j, i]\n",
    "\n",
    "            # Dynamic discount factors (ru, rd)\n",
    "            ru = ConversionProbability[j+1, i+1] * r + (1 - ConversionProbability[j+1, i+1]) * (r + k)\n",
    "            rd = ConversionProbability[j, i+1] * r + (1 - ConversionProbability[j, i+1]) * (r + k)\n",
    "\n",
    "            if CouponPayment == 1:\n",
    "                CouponValue = coupon * (p * np.exp(-ru * Time) + (1 - p) * np.exp(-rd * Time))\n",
    "            else:\n",
    "                CouponValue = 0\n",
    "\n",
    "            # Calculate bond price using backward induction\n",
    "            hold_bond_value = CouponValue + p * BondPrice[j + 1, i + 1] * np.exp(-ru * dt) + (1 - p) * BondPrice[j, i + 1] * np.exp(-rd * dt)\n",
    "            convert_to_stock_value = conversion_ratio * stock_price\n",
    "\n",
    "            # Modify for American or European option style\n",
    "            if AmeEur == 'a':\n",
    "                # American style: check for early exercise\n",
    "                BondPrice[j, i] = max(hold_bond_value, convert_to_stock_value)\n",
    "            else:\n",
    "                # European style: only exercise at maturity\n",
    "                BondPrice[j, i] = hold_bond_value\n",
    "\n",
    "            # Conversion probability: set to 1 if conversion happens, otherwise average the next nodes\n",
    "            if BondPrice[j, i] == convert_to_stock_value and AmeEur == 'a':\n",
    "                ConversionProbability[j, i] = 1\n",
    "            else:\n",
    "                ConversionProbability[j, i] = p * ConversionProbability[j + 1, i + 1] + (1 - p) * ConversionProbability[j, i + 1]\n",
    "\n",
    "    return BondPrice[0,0]\n",
    "\n"
   ]
  },
  {
   "cell_type": "code",
   "execution_count": null,
   "metadata": {},
   "outputs": [
    {
     "name": "stdout",
     "output_type": "stream",
     "text": [
      "Delta of the Convertible Bond: 0.4056\n"
     ]
    }
   ],
   "source": [
    "# Delta Calculation\n",
    "def calculate_delta(S0, F, T, r, k, coupon, conversion_ratio, N, sigma, AmeEur='e', bump=0.01):\n",
    "    bond_price_up = CRR_convertible_bond(S0 + (S0*bump), F, T, r, k, coupon, conversion_ratio, N, sigma, AmeEur)\n",
    "    bond_price_down = CRR_convertible_bond(S0 - (S0*bump), F, T, r, k, coupon, conversion_ratio, N, sigma, AmeEur)\n",
    "    # Calculate delta\n",
    "    delta = (bond_price_up - bond_price_down) / (2 * bump * 100)\n",
    "    return delta\n",
    "\n",
    "# Calculate Delta\n",
    "delta = calculate_delta(S0, F, T, r, k, coupon, conversion_ratio, N, sigma, AmeEur='e')\n",
    "print(f\"Delta of the Convertible Bond: {delta:.4f}\")\n"
   ]
  },
  {
   "cell_type": "code",
   "execution_count": null,
   "metadata": {},
   "outputs": [
    {
     "name": "stdout",
     "output_type": "stream",
     "text": [
      "Rho of the Convertible Bond: -189.6374\n"
     ]
    }
   ],
   "source": [
    "def calculate_rho(S0, F, T, r, k, coupon, conversion_ratio, N, sigma, AmeEur='e', bump_rho=1/10000):\n",
    "    bond_price_up = CRR_convertible_bond(S0, F, T, r + bump_rho, k, coupon, conversion_ratio, N, sigma, AmeEur)\n",
    "    bond_price_down = CRR_convertible_bond(S0, F, T, r - bump_rho, k, coupon, conversion_ratio, N, sigma, AmeEur)\n",
    "    # Calculate Rho\n",
    "    rho = (bond_price_up - bond_price_down) / (2 * bump_rho)\n",
    "    return rho\n",
    "\n",
    "rho = calculate_rho(S0, F, T, r, k, coupon, conversion_ratio, N, sigma, AmeEur='e')\n",
    "print(f\"Rho of the Convertible Bond: {rho:.4f}\")"
   ]
  },
  {
   "cell_type": "code",
   "execution_count": null,
   "metadata": {},
   "outputs": [
    {
     "name": "stdout",
     "output_type": "stream",
     "text": [
      "Vega of the Convertible Bond: 35.7933\n"
     ]
    }
   ],
   "source": [
    "# Function to calculate Vega\n",
    "def calculate_vega(S0, F, T, r, k, coupon, conversion_ratio, N, sigma, AmeEur='e', bump_sigma=0.0001):\n",
    "    bond_price_up = CRR_convertible_bond(S0, F, T, r, k, coupon, conversion_ratio, N, sigma + bump_sigma, AmeEur)\n",
    "    bond_price_down = CRR_convertible_bond(S0, F, T, r, k, coupon, conversion_ratio, N, sigma - bump_sigma, AmeEur)\n",
    "    vega = (bond_price_up - bond_price_down) / (2 * bump_sigma)\n",
    "    return vega\n",
    "\n",
    "# Calculate Vega\n",
    "vega = calculate_vega(S0, F, T, r, k, coupon, conversion_ratio, N, sigma, AmeEur='e')\n",
    "print(f\"Vega of the Convertible Bond: {vega:.4f}\")\n"
   ]
  },
  {
   "cell_type": "code",
   "execution_count": null,
   "metadata": {},
   "outputs": [
    {
     "name": "stdout",
     "output_type": "stream",
     "text": [
      "Gamma of the Convertible Bond: 0.0000\n"
     ]
    }
   ],
   "source": [
    "# Function to calculate Gamma\n",
    "def calculate_gamma(S0, F, T, r, k, coupon, conversion_ratio, N, sigma, AmeEur='e', bump_gamma=0.001):\n",
    "    bond_price_up = CRR_convertible_bond(S0 + (S0*bump_gamma), F, T, r, k, coupon, conversion_ratio, N, sigma, AmeEur)\n",
    "    bond_price_mid = CRR_convertible_bond(S0, F, T, r, k, coupon, conversion_ratio, N, sigma, AmeEur)\n",
    "    bond_price_down = CRR_convertible_bond(S0 - (S0*bump_gamma), F, T, r, k, coupon, conversion_ratio, N, sigma, AmeEur)\n",
    "    # Calculate Gamma\n",
    "    gamma = (bond_price_up - (2 * bond_price_mid) + bond_price_down) / ((S0*bump_gamma) ** 2)\n",
    "    return gamma\n",
    "\n",
    "# Calculate Gamma\n",
    "gamma = calculate_gamma(S0, F, T, r, k, coupon, conversion_ratio, N, sigma, AmeEur='e')\n",
    "print(f\"Gamma of the Convertible Bond: {gamma:.4f}\")"
   ]
  },
  {
   "cell_type": "code",
   "execution_count": null,
   "metadata": {},
   "outputs": [
    {
     "name": "stdout",
     "output_type": "stream",
     "text": [
      "Theta of the Convertible Bond: 4.8487\n"
     ]
    }
   ],
   "source": [
    "# Function to calculate Theta\n",
    "def calculate_theta(S0, F, T, r, k, coupon, conversion_ratio, N, sigma, AmeEur='e', bump_theta=1/360):\n",
    "    bond_price_shorter_time = CRR_convertible_bond(S0, F, T - bump_theta, r, k, coupon, conversion_ratio, N, sigma, AmeEur)\n",
    "    bond_price_current_time = CRR_convertible_bond(S0, F, T, r, k, coupon, conversion_ratio, N, sigma, AmeEur)\n",
    "    theta = (bond_price_shorter_time - bond_price_current_time) / bump_theta\n",
    "    return theta\n",
    "\n",
    "# Calculate Theta\n",
    "theta = calculate_theta(S0, F, T, r, k, coupon, conversion_ratio, N, sigma, AmeEur='e')\n",
    "print(f\"Theta of the Convertible Bond: {theta:.4f}\")\n"
   ]
  },
  {
   "cell_type": "code",
   "execution_count": 167,
   "metadata": {},
   "outputs": [],
   "source": [
    "S0 = 75                             # Initial stock price\n",
    "F = 100                             # Face value of the bond\n",
    "X = 100                             # Strike price for conversion\n",
    "T = 5                               # Time to maturity (in years)\n",
    "t1= 0\n",
    "r = 0.07                            # Risk-free rate\n",
    "q = 0\n",
    "b = r - q\n",
    "k = 0.03                            # Credit spread\n",
    "sigma = 0.2                         # Volatility\n",
    "dt = 1\n",
    "coupon = 6                          # Coupon payment per year\n",
    "m = 1                               # Conversion ratio (1 bond = 1 stock)\n",
    "N = 5                              # Number of time steps\n",
    "conversion_ratio = F / X            # Conversion ratio\n",
    "\n",
    "# Function to calculate tree parameters (u, d, p) for different models\n",
    "def calculate_tree_parameters(r, q, sigma, dt, model_type, drift=0):\n",
    "    if model_type == 'CRR':\n",
    "        u = np.exp(sigma * np.sqrt(dt))\n",
    "        d = 1 / u\n",
    "        p = (np.exp(r * dt) - d) / (u - d)\n",
    "    elif model_type == 'CRR_Drift':\n",
    "        u = np.exp(sigma * np.sqrt(dt))\n",
    "        d = 1 / u\n",
    "        p = (np.exp((r + drift) * dt) - d) / (u - d)\n",
    "    elif model_type == 'Jarrow-Rudd':\n",
    "        u = np.exp((r - q - 0.5 * sigma ** 2) * dt + sigma * np.sqrt(dt))\n",
    "        d = np.exp((r - q - 0.5 * sigma ** 2) * dt - sigma * np.sqrt(dt))\n",
    "        p = 0.5\n",
    "    elif model_type == 'Tian':\n",
    "        eta=np.exp(dt*sigma**2)\n",
    "        u=0.5*np.exp(r*dt)*eta*(eta+1+np.sqrt(eta**2+2*eta-3))\n",
    "        d=0.5*np.exp(r*dt)*eta*(eta+1-np.sqrt(eta**2+2*eta-3))\n",
    "        p=(np.exp((b)*dt)-d)/(u-d)\n",
    "    elif model_type == 'Haahtela':\n",
    "        u = np.exp(r * dt) * (1 + np.sqrt(np.exp((sigma ** 2) * dt) - 1))\n",
    "        d = np.exp(r * dt) * (1 - np.sqrt(np.exp((sigma ** 2) * dt) - 1))\n",
    "        p = (np.exp((r - q) * dt) - d) / (u - d)\n",
    "    else:\n",
    "        raise ValueError(\"Unknown model type provided.\")\n",
    "\n",
    "    return u, d, p\n",
    "\n",
    "def LatticeConvertibleBond(S0, F, T, r, k, coupon, conversion_ratio, N, sigma, model_type='', AmeEur='e', q=0, drift=0):\n",
    "    dt = T / N  # Time step\n",
    "    sigma = 0.2  # Assume a constant volatility for demonstration purposes\n",
    "\n",
    "    # Calculate u, d, p using the specified model type\n",
    "    u, d, p = calculate_tree_parameters(r, q, sigma, dt, model_type, drift)\n",
    "\n",
    "    # Create the binomial stock price tree\n",
    "    StockPrice = np.zeros((N + 1, N + 1))\n",
    "    for i in range(N + 1):\n",
    "        for j in range(i + 1):\n",
    "            StockPrice[j, i] = S0 * (u ** j) * (d ** (i - j))\n",
    "\n",
    "    # Create the bond price tree (including coupon payments)\n",
    "    BondPrice = np.zeros((N + 1, N + 1))\n",
    "    # Create the conversion probability tree\n",
    "    ConversionProbability = np.zeros((N + 1, N + 1))\n",
    "\n",
    "    # Calculate bond prices and conversion probabilities at maturity\n",
    "    for j in range(N + 1):\n",
    "        stock_price = StockPrice[j, N]\n",
    "        bond_value_at_maturity = max(conversion_ratio * stock_price, F + coupon)\n",
    "        BondPrice[j, N] = bond_value_at_maturity\n",
    "        ConversionProbability[j, N] = 1 if conversion_ratio * stock_price > F + coupon else 0\n",
    "\n",
    "    # Initialize coupon timing and time management\n",
    "    CouponTime = T  # Initial coupon time matches maturity\n",
    "\n",
    "    # Backward calculation for bond price and conversion probability\n",
    "    for i in range(N - 1, -1, -1):\n",
    "        if CouponTime != (T - np.ceil((N - i + 1) * dt)):\n",
    "            CouponPayment = 1  # It's time to pay a coupon\n",
    "            CouponTime = T - np.ceil((N - i) * dt)\n",
    "            Time = CouponTime - dt * i\n",
    "        else:\n",
    "            CouponPayment = 0\n",
    "\n",
    "        for j in range(i + 1):\n",
    "            stock_price = StockPrice[j, i]\n",
    "\n",
    "            # Dynamic discount factors (ru, rd)\n",
    "            ru = ConversionProbability[j+1, i+1] * r + (1 - ConversionProbability[j+1, i+1]) * (r + k)\n",
    "            rd = ConversionProbability[j, i+1] * r + (1 - ConversionProbability[j, i+1]) * (r + k)\n",
    "\n",
    "            if CouponPayment == 1:\n",
    "                CouponValue = coupon * (p * np.exp(-ru * Time) + (1 - p) * np.exp(-rd * Time))\n",
    "            else:\n",
    "                CouponValue = 0\n",
    "\n",
    "            hold_bond_value = CouponValue + p * BondPrice[j + 1, i + 1] * np.exp(-ru * dt) + (1 - p) * BondPrice[j, i + 1] * np.exp(-rd * dt)\n",
    "            convert_to_stock_value = conversion_ratio * stock_price\n",
    "\n",
    "            # Modify for American or European option style\n",
    "            if AmeEur == 'a':  # American option: can convert at any time\n",
    "                BondPrice[j, i] = max(hold_bond_value, convert_to_stock_value)\n",
    "\n",
    "            else:  # European option: can only convert at maturity\n",
    "                BondPrice[j, i] = hold_bond_value\n",
    "\n",
    "            # Update the conversion probability based on the style\n",
    "            if AmeEur == 'a' and BondPrice[j, i] == convert_to_stock_value:\n",
    "                ConversionProbability[j, i] = 1\n",
    "            else:\n",
    "                ConversionProbability[j, i] = p * ConversionProbability[j + 1, i + 1] + (1 - p) * ConversionProbability[j, i + 1]\n",
    "\n",
    "    return BondPrice\n"
   ]
  },
  {
   "cell_type": "code",
   "execution_count": 194,
   "metadata": {},
   "outputs": [
    {
     "name": "stdout",
     "output_type": "stream",
     "text": [
      "Delta Greek for All Models:\n",
      "CRR: 0.4056\n",
      "CRR_Drift: 0.4056\n",
      "Jarrow-Rudd: 0.4927\n",
      "Tian: 2.6432\n",
      "Haahtela: 0.4960\n"
     ]
    }
   ],
   "source": [
    "# Define all model types\n",
    "\n",
    "# Function to calculate Delta Greek for all models\n",
    "def calculate_delta_models(S0, F, T, r, k, coupon, conversion_ratio, N, sigma, AmeEur='a', q=0, drift=0, bump=0.01):\n",
    "    model_types = ['CRR', 'CRR_Drift', 'Jarrow-Rudd', 'Tian', 'Haahtela']\n",
    "    delta_results = {}\n",
    "    for model in model_types:\n",
    "        # Calculate Delta for the current model type\n",
    "        bond_price_up = LatticeConvertibleBond(S0 + (S0*bump), F, T, r, k, coupon, conversion_ratio, N, sigma, model, AmeEur, q, drift)[0, 0]\n",
    "        bond_price_down = LatticeConvertibleBond(S0 - (S0*bump), F, T, r, k, coupon, conversion_ratio, N, sigma, model, AmeEur, q, drift)[0, 0]\n",
    "        delta = (bond_price_up - bond_price_down) / (2 * bump * 100)\n",
    "        delta_results[model] = delta    # Store the Delta in the results \n",
    "    return delta_results\n",
    "\n",
    "\n",
    "# Calculate Delta for all models\n",
    "deltas_models = calculate_delta_models(S0, F, T, r, k, coupon, conversion_ratio, N, sigma)\n",
    "\n",
    "print(\"Delta Greek for All Models:\")\n",
    "for model, delta in deltas_models.items():\n",
    "    print(f\"{model}: {delta:.4f}\")\n"
   ]
  },
  {
   "cell_type": "code",
   "execution_count": 193,
   "metadata": {},
   "outputs": [
    {
     "name": "stdout",
     "output_type": "stream",
     "text": [
      "Rho Greek for All Models:\n",
      "CRR: -189.6374\n",
      "CRR_Drift: -189.6374\n",
      "Jarrow-Rudd: -213.6300\n",
      "Tian: -470.2930\n",
      "Haahtela: -213.6300\n"
     ]
    }
   ],
   "source": [
    "# Function to calculate Rho Greek for all models\n",
    "def calculate_rho_models(S0, F, T, r, k, coupon, conversion_ratio, N, sigma, AmeEur='a', q=0, drift=0, bumb_rho=0.0001):\n",
    "    model_types = ['CRR', 'CRR_Drift', 'Jarrow-Rudd', 'Tian', 'Haahtela']\n",
    "    rho_results = {}\n",
    "    for model in model_types:\n",
    "        bond_price_up = LatticeConvertibleBond(S0, F, T, r + bumb_rho, k, coupon, conversion_ratio, N, sigma, model, AmeEur, q, drift)[0, 0]\n",
    "        bond_price_down = LatticeConvertibleBond(S0, F, T, r - bumb_rho, k, coupon, conversion_ratio, N, sigma, model, AmeEur, q, drift)[0, 0]\n",
    "        # Calculate Rho\n",
    "        rho = (bond_price_up - bond_price_down) / (2 * bumb_rho)\n",
    "        rho_results[model] = rho\n",
    "    return rho_results\n",
    "\n",
    "# Calculate Rho for all models\n",
    "rho_models = calculate_rho_models(S0, F, T, r, k, coupon, conversion_ratio, N, sigma)\n",
    "\n",
    "print(\"Rho Greek for All Models:\")\n",
    "for model, rho in rho_models.items():\n",
    "    print(f\"{model}: {rho:.4f}\")"
   ]
  },
  {
   "cell_type": "code",
   "execution_count": 195,
   "metadata": {},
   "outputs": [
    {
     "name": "stdout",
     "output_type": "stream",
     "text": [
      "Gamma Greek for All Models:\n",
      "CRR: 0.0000\n",
      "CRR_Drift: 0.0000\n",
      "Jarrow-Rudd: 0.0000\n",
      "Tian: -0.0000\n",
      "Haahtela: -0.0000\n"
     ]
    }
   ],
   "source": [
    "model_types = ['CRR', 'CRR_Drift', 'Jarrow-Rudd', 'Tian', 'Haahtela']\n",
    "# Function to calculate Gamma Greek for all models\n",
    "def calculate_gamma_models(S0, F, T, r, k, coupon, conversion_ratio, N, sigma, AmeEur='a', q=0, drift=0, bump_gamma=0.01):\n",
    "    gamma_results = {}\n",
    "    for model in model_types:\n",
    "        bond_price_up = LatticeConvertibleBond(S0 + bump_gamma, F, T, r, k, coupon, conversion_ratio, N, sigma, model, AmeEur, q, drift)[0, 0]\n",
    "        bond_price_mid = LatticeConvertibleBond(S0, F, T, r, k, coupon, conversion_ratio, N, sigma, model, AmeEur, q, drift)[0, 0]\n",
    "        bond_price_down = LatticeConvertibleBond(S0 - bump_gamma, F, T, r, k, coupon, conversion_ratio, N, sigma, model, AmeEur, q, drift)[0, 0]\n",
    "        # Calculate Gamma\n",
    "        gamma = (bond_price_up - (2 * bond_price_mid) + bond_price_down) / ((S0*bump_gamma) ** 2)\n",
    "        gamma_results[model] = gamma\n",
    "    return gamma_results\n",
    "\n",
    "# Calculate Gamma for all models\n",
    "gamma_results = calculate_gamma_models(S0, F, T, r, k, coupon, conversion_ratio, N, sigma)\n",
    "\n",
    "# Display the results\n",
    "print(\"Gamma Greek for All Models:\")\n",
    "for model, gamma in gamma_results.items():\n",
    "    print(f\"{model}: {gamma:.4f}\")\n"
   ]
  },
  {
   "cell_type": "code",
   "execution_count": 196,
   "metadata": {},
   "outputs": [
    {
     "name": "stdout",
     "output_type": "stream",
     "text": [
      "Vega Greek for All Models:\n",
      "CRR: 0.0000\n",
      "CRR_Drift: 0.0000\n",
      "Jarrow-Rudd: 0.0000\n",
      "Tian: 0.0000\n",
      "Haahtela: 0.0000\n"
     ]
    }
   ],
   "source": [
    "model_types = ['CRR', 'CRR_Drift', 'Jarrow-Rudd', 'Tian', 'Haahtela']\n",
    "def calculate_vega_models(S0, F, T, r, k, coupon, conversion_ratio, N, sigma, AmeEur='a', q=0, drift=0, bump_sigma=0.0001):\n",
    "    vega_results = {}\n",
    "    for model in model_types:\n",
    "        bond_price_up = LatticeConvertibleBond(S0, F, T, r, k, coupon, conversion_ratio, N, sigma + bump_sigma, model, AmeEur, q, drift)[0, 0]\n",
    "        bond_price_down = LatticeConvertibleBond(S0, F, T, r, k, coupon, conversion_ratio, N, sigma - bump_sigma, model, AmeEur, q, drift)[0, 0]\n",
    "        # Calculate Vega\n",
    "        vega = (bond_price_up - bond_price_down) / (2 * bump_sigma)\n",
    "        vega_results[model] = vega\n",
    "    return vega_results\n",
    "\n",
    "# Calculate Vega for all models\n",
    "vega_results = calculate_vega_models(S0, F, T, r, k, coupon, conversion_ratio, N, sigma)\n",
    "\n",
    "print(\"Vega Greek for All Models:\")\n",
    "for model, vega in vega_results.items():\n",
    "    print(f\"{model}: {vega:.4f}\")\n"
   ]
  },
  {
   "cell_type": "code",
   "execution_count": 197,
   "metadata": {},
   "outputs": [
    {
     "name": "stdout",
     "output_type": "stream",
     "text": [
      "Theta Greek for All Models:\n",
      "CRR: 4.8487\n",
      "CRR_Drift: 4.8487\n",
      "Jarrow-Rudd: 4.3754\n",
      "Tian: 3.9328\n",
      "Haahtela: 4.2794\n"
     ]
    }
   ],
   "source": [
    "# Function to calculate Theta Greek for all models\n",
    "def calculate_theta_models(S0, F, T, r, k, coupon, conversion_ratio, N, sigma, AmeEur='a', q=0, drift=0, bump_theta=1/360):\n",
    "    model_types = ['CRR', 'CRR_Drift', 'Jarrow-Rudd', 'Tian', 'Haahtela']\n",
    "    theta_results = {}\n",
    "    for model in model_types:\n",
    "        bond_price_shorter_time = LatticeConvertibleBond(S0, F, T - bump_theta, r, k, coupon, conversion_ratio, N, sigma, model, AmeEur, q, drift)[0, 0]\n",
    "        bond_price_current_time = LatticeConvertibleBond(S0, F, T, r, k, coupon, conversion_ratio, N, sigma, model, AmeEur, q, drift)[0, 0]\n",
    "        # Calculate Theta\n",
    "        theta = (bond_price_shorter_time - bond_price_current_time) / bump_theta\n",
    "        theta_results[model] = theta\n",
    "    return theta_results\n",
    "\n",
    "# Calculate Theta for all models\n",
    "theta_results = calculate_theta_models(S0, F, T, r, k, coupon, conversion_ratio, N, sigma)\n",
    "\n",
    "print(\"Theta Greek for All Models:\")\n",
    "for model, theta in theta_results.items():\n",
    "    print(f\"{model}: {theta:.4f}\")"
   ]
  }
 ],
 "metadata": {
  "kernelspec": {
   "display_name": "Python 3",
   "language": "python",
   "name": "python3"
  },
  "language_info": {
   "codemirror_mode": {
    "name": "ipython",
    "version": 3
   },
   "file_extension": ".py",
   "mimetype": "text/x-python",
   "name": "python",
   "nbconvert_exporter": "python",
   "pygments_lexer": "ipython3",
   "version": "3.12.2"
  }
 },
 "nbformat": 4,
 "nbformat_minor": 2
}
