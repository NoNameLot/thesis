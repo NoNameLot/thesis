{
 "cells": [
  {
   "cell_type": "code",
   "execution_count": 3,
   "metadata": {},
   "outputs": [
    {
     "name": "stdout",
     "output_type": "stream",
     "text": [
      "106.23456548322234\n"
     ]
    }
   ],
   "source": [
    "# -*- codeng: utf-8 -*-\n",
    "\"\"\"\n",
    "Created on Mon Sep 23 12:08:39 2024\n",
    "\n",
    "@author: Utente\n",
    "\"\"\"\n",
    "\n",
    "import numpy as np\n",
    "\n",
    "AmeEur='e'\n",
    "S=75\n",
    "T2=5\n",
    "t1=0\n",
    "r=0.07\n",
    "q=0\n",
    "b=r-q\n",
    "k=0.03\n",
    "sigma=0.2\n",
    "F=100\n",
    "X=100\n",
    "Coupon=6\n",
    "N=5\n",
    "\n",
    "CRatio=F/X\n",
    "\n",
    "OptionValue=np.zeros(N+1)\n",
    "ConversionProbability=np.zeros(N+1)\n",
    "\n",
    "dt=T2/N\n",
    "\n",
    "u=np.exp(sigma*np.sqrt(dt))\n",
    "d=1/u\n",
    "p=(np.exp((r-q)*dt)-d)/(u-d)\n",
    "\n",
    "\n",
    "\n",
    "for i in range(N+1):\n",
    "    StockPrice=S*(u**i)*(d**(N-i))\n",
    "    OptionValue[i]=np.max([F+Coupon,CRatio*StockPrice])\n",
    "    if(OptionValue[i]==F+Coupon):\n",
    "        ConversionProbability[i]=0\n",
    "    else:\n",
    "        ConversionProbability[i]=1\n",
    "\n",
    "\n",
    "CouponTime=T2\n",
    "\n",
    "for j in range(N, 0, -1):\n",
    "    if(CouponTime != (T2 - np.ceil((N-j+1)*dt))):\n",
    "        CouponPayment=1\n",
    "        CouponTime=T2 - np.ceil((N-j)*dt)\n",
    "        Time=CouponTime-dt*j\n",
    "    else:\n",
    "        CouponPayment=0\n",
    "    for i in range(j):\n",
    "        ru=ConversionProbability[i+1]*r+(1-ConversionProbability[i+1])*(r+k)\n",
    "        rd=ConversionProbability[i]*r+(1-ConversionProbability[i])*(r+k)\n",
    "        StockPrice=S*(u**i)*(d**(np.abs(i-j)))\n",
    "        if (CouponPayment == 1):\n",
    "            CouponValue=Coupon*(p*np.exp(-ru*Time)+(1-p)*np.exp(-rd*Time))\n",
    "        else:\n",
    "            CouponValue=0\n",
    "        if (AmeEur=='e' or AmeEur=='a' and dt*j<=t1):\n",
    "            OptionValue[i]=CouponValue+p*OptionValue[i+1]*np.exp(-ru*dt)+(1-p)*OptionValue[i]*np.exp(-rd*dt)\n",
    "            ConversionProbability[i]=p*ConversionProbability[i+1]+(1-p)*ConversionProbability[i]\n",
    "        elif(AmeEur=='a'):\n",
    "            OptionValue[i]=np.max([CRatio*(StockPrice-X)+F,CouponValue+p*OptionValue[i+1]*np.exp(-ru*dt)+(1-p)*OptionValue[i]*np.exp(-rd*dt)])\n",
    "            print(CRatio*(StockPrice-X)+F,CouponValue+p*OptionValue[i+1]*np.exp(-ru*dt)+(1-p)*OptionValue[i]*np.exp(-rd*dt))\n",
    "            if(OptionValue[i]==CRatio*(StockPrice-X)+F):\n",
    "                ConversionProbability[i]=1\n",
    "            else:\n",
    "                ConversionProbability[i]=p*ConversionProbability[i+1]+(1-p)*ConversionProbability[i]\n",
    "print(OptionValue[0])      "
   ]
  }
 ],
 "metadata": {
  "kernelspec": {
   "display_name": "Python 3",
   "language": "python",
   "name": "python3"
  },
  "language_info": {
   "codemirror_mode": {
    "name": "ipython",
    "version": 3
   },
   "file_extension": ".py",
   "mimetype": "text/x-python",
   "name": "python",
   "nbconvert_exporter": "python",
   "pygments_lexer": "ipython3",
   "version": "3.12.2"
  }
 },
 "nbformat": 4,
 "nbformat_minor": 2
}
