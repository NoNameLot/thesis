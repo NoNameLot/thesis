{
 "cells": [
  {
   "cell_type": "code",
   "execution_count": 605,
   "metadata": {
    "id": "S4uC-Eyo32_H"
   },
   "outputs": [],
   "source": [
    "import numpy as np\n",
    "import networkx as nx\n",
    "import matplotlib.pyplot as plt\n",
    "import matplotlib.colors as mcolors"
   ]
  },
  {
   "cell_type": "code",
   "execution_count": 621,
   "metadata": {
    "id": "XMdWUFAr5cUL"
   },
   "outputs": [],
   "source": [
    "# Parameters\n",
    "S0 = 75                             # Initial stock price\n",
    "F = 100                             # Face value of the bond\n",
    "X = 100                             # Strike price for conversion\n",
    "T = 5                               # Time to maturity (in years)\n",
    "r = 0.07                            # Risk-free rate\n",
    "q = 0\n",
    "b = r - q                           # Cost of carry \n",
    "k = 0.03                            # Credit spread\n",
    "sigma = 0.2                         # Volatility\n",
    "dt = 1\n",
    "coupon = 6                          # Coupon payment per year\n",
    "m = 1                               # Conversion ratio (1 bond = 1 stock)\n",
    "N = 250                             # Number of time steps\n",
    "conversion_ratio = F / X            # Conversion ratio"
   ]
  },
  {
   "cell_type": "code",
   "execution_count": null,
   "metadata": {
    "id": "730n5gmx32_M"
   },
   "outputs": [],
   "source": [
    "# Convertible bond pricing model (Cox-Ross-Rubinstein method)\n",
    "def CRR_convertible_bond(S0, F, T, r, k, coupon, conversion_ratio, N, sigma, AmeEur='e'):\n",
    "    # Time step\n",
    "    dt = T / N\n",
    "    u = np.exp(sigma * np.sqrt(dt))     # Up factor\n",
    "    d = 1 / u                           # Down factor\n",
    "    p = (np.exp(r * dt) - d) / (u - d)  # Risk-neutral probability\n",
    "\n",
    "    # Create the binomial stock price tree\n",
    "    StockPrice = np.zeros((N + 1, N + 1))\n",
    "    for i in range(N + 1):\n",
    "        for j in range(i + 1):\n",
    "            StockPrice[j, i] = S0 * (u ** j) * (d ** (i - j))\n",
    "\n",
    "    # Create the bond price tree (including coupon payments)\n",
    "    BondPrice = np.zeros((N + 1, N + 1))\n",
    "    # Create the conversion probability tree\n",
    "    ConversionProbability = np.zeros((N + 1, N + 1))\n",
    "\n",
    "    # Calculate bond prices and conversion probabilities at maturity\n",
    "    for j in range(N + 1):\n",
    "        stock_price = StockPrice[j, N]\n",
    "        bond_value_at_maturity = max(conversion_ratio * stock_price, F + coupon)\n",
    "        BondPrice[j, N] = bond_value_at_maturity\n",
    "        # Conversion probability is 1 if conversion is optimal at maturity\n",
    "        ConversionProbability[j, N] = 1 if conversion_ratio * stock_price > F + coupon else 0\n",
    "\n",
    "    # Initialize coupon timing and time management\n",
    "    CouponTime = T  # Initial coupon time matches maturity\n",
    "\n",
    "    # Backward calculation for bond price and conversion probability\n",
    "    for i in range(N - 1, -1, -1):\n",
    "        if CouponTime != (T - np.ceil((N - i + 1) * dt)):\n",
    "            CouponPayment = 1  # It's time to pay a coupon\n",
    "            CouponTime = T - np.ceil((N - i) * dt)\n",
    "            Time = CouponTime - dt * i\n",
    "        else:\n",
    "            CouponPayment = 0\n",
    "\n",
    "        for j in range(i + 1):\n",
    "            stock_price = StockPrice[j, i]\n",
    "\n",
    "            # Dynamic discount factors (ru, rd)\n",
    "            ru = ConversionProbability[j+1, i+1] * r + (1 - ConversionProbability[j+1, i+1]) * (r + k)\n",
    "            rd = ConversionProbability[j, i+1] * r + (1 - ConversionProbability[j, i+1]) * (r + k)\n",
    "\n",
    "            if CouponPayment == 1:\n",
    "                CouponValue = coupon * (p * np.exp(-ru * Time) + (1 - p) * np.exp(-rd * Time))\n",
    "            else:\n",
    "                CouponValue = 0\n",
    "\n",
    "            # Calculate bond price using backward induction\n",
    "            hold_bond_value = CouponValue + p * BondPrice[j + 1, i + 1] * np.exp(-ru * dt) \n",
    "            + (1 - p) * BondPrice[j, i + 1] * np.exp(-rd * dt)\n",
    "            convert_to_stock_value = conversion_ratio * stock_price\n",
    "\n",
    "            # Modify for American or European option style\n",
    "            if AmeEur == 'a':\n",
    "                # American style: check for early exercise\n",
    "                BondPrice[j, i] = max(hold_bond_value, convert_to_stock_value)\n",
    "            else:\n",
    "                # European style: only exercise at maturity\n",
    "                BondPrice[j, i] = hold_bond_value\n",
    "\n",
    "            # Conversion probability: set to 1 if conversion happens, otherwise average the next nodes\n",
    "            if BondPrice[j, i] == convert_to_stock_value and AmeEur == 'a':\n",
    "                ConversionProbability[j, i] = 1\n",
    "            else:\n",
    "                ConversionProbability[j, i] = p * ConversionProbability[j + 1, i + 1] \n",
    "                + (1 - p) * ConversionProbability[j, i + 1]\n",
    "\n",
    "    return BondPrice[0,0]\n",
    "\n"
   ]
  },
  {
   "cell_type": "markdown",
   "metadata": {
    "id": "md2jolyb5miY"
   },
   "source": []
  },
  {
   "cell_type": "code",
   "execution_count": 623,
   "metadata": {
    "colab": {
     "base_uri": "https://localhost:8080/"
    },
    "id": "wKqyVBOo5gko",
    "outputId": "1325db7b-5a9e-42d2-c4f4-5a884da55e33"
   },
   "outputs": [
    {
     "name": "stdout",
     "output_type": "stream",
     "text": [
      "131.7639536868685\n"
     ]
    }
   ],
   "source": [
    "MKTPrice=CRR_convertible_bond(S0, F, T, r, k, coupon, conversion_ratio, N, sigma, 'e')\n",
    "print(MKTPrice)"
   ]
  },
  {
   "cell_type": "code",
   "execution_count": 588,
   "metadata": {
    "colab": {
     "base_uri": "https://localhost:8080/"
    },
    "id": "tNqlg6vz32_O",
    "outputId": "c65cc87c-7361-4e35-e389-0e39dfd8ea9f"
   },
   "outputs": [
    {
     "name": "stdout",
     "output_type": "stream",
     "text": [
      "Delta of the Convertible Bond: 0.4076\n"
     ]
    }
   ],
   "source": [
    "# Delta Calculation\n",
    "def calculate_delta(S0, F, T, r, k, coupon, conversion_ratio, N, sigma, AmeEur='e', bump=0.5/100):\n",
    "    bond_price_up = CRR_convertible_bond(S0 + (S0*bump), F, T, r, k, coupon, conversion_ratio, N, sigma, AmeEur)\n",
    "    bond_price_down = CRR_convertible_bond(S0 - (S0*bump), F, T, r, k, coupon, conversion_ratio, N, sigma, AmeEur)\n",
    "    # Calculate delta\n",
    "    delta = (bond_price_up - bond_price_down) / (2 * bump * 100)\n",
    "    return delta\n",
    "\n",
    "# Calculate Delta\n",
    "delta = calculate_delta(S0, F, T, r, k, coupon, conversion_ratio, N, sigma, AmeEur='e')\n",
    "print(f\"Delta of the Convertible Bond: {delta:.4f}\")\n"
   ]
  },
  {
   "cell_type": "code",
   "execution_count": 589,
   "metadata": {
    "colab": {
     "base_uri": "https://localhost:8080/"
    },
    "id": "XRHOBoy26I5V",
    "outputId": "f32352ac-c9db-42f1-8726-5a57d82aaa5a"
   },
   "outputs": [
    {
     "name": "stdout",
     "output_type": "stream",
     "text": [
      "131.7659917722593\n",
      "131.96776222594872\n"
     ]
    }
   ],
   "source": [
    "bump=0.5/100\n",
    "Taylor_approx = MKTPrice + delta * bump\n",
    "print(Taylor_approx)\n",
    "Exact_price=CRR_convertible_bond(S0*(1+bump), F, T, r, k, coupon, conversion_ratio, N, sigma, 'e')\n",
    "print(Exact_price)"
   ]
  },
  {
   "cell_type": "code",
   "execution_count": 590,
   "metadata": {
    "colab": {
     "base_uri": "https://localhost:8080/"
    },
    "id": "sZzpVhvV32_P",
    "outputId": "0370aa6a-d640-4126-ffd7-356b7557b382"
   },
   "outputs": [
    {
     "name": "stdout",
     "output_type": "stream",
     "text": [
      "Rho of the Convertible Bond: -224.2896\n"
     ]
    }
   ],
   "source": [
    "def calculate_rho(S0, F, T, r, k, coupon, conversion_ratio, N, sigma, AmeEur='e', bump_rho=1/10000):\n",
    "    bond_price_up = CRR_convertible_bond(S0, F, T, r + bump_rho, k, coupon, conversion_ratio, N, sigma, AmeEur)\n",
    "    bond_price_down = CRR_convertible_bond(S0, F, T, r - bump_rho, k, coupon, conversion_ratio, N, sigma, AmeEur)\n",
    "    # Calculate Rho\n",
    "    rho = (bond_price_up - bond_price_down) / (2 * bump_rho)\n",
    "    return rho\n",
    "\n",
    "rho = calculate_rho(S0, F, T, r, k, coupon, conversion_ratio, N, sigma, AmeEur='e')\n",
    "print(f\"Rho of the Convertible Bond: {rho:.4f}\")"
   ]
  },
  {
   "cell_type": "code",
   "execution_count": 591,
   "metadata": {
    "colab": {
     "base_uri": "https://localhost:8080/"
    },
    "id": "HomNbOBj6aaT",
    "outputId": "1bd30c9b-52fb-45b0-ba96-345bcfeec37e"
   },
   "outputs": [
    {
     "name": "stdout",
     "output_type": "stream",
     "text": [
      "131.74152472193688\n",
      "131.76238372287816\n"
     ]
    }
   ],
   "source": [
    "bump_rho=1/10000\n",
    "Taylor_approx = MKTPrice + rho * bump_rho\n",
    "print(Taylor_approx)\n",
    "Exact_price=CRR_convertible_bond(S0, F, T, r*(1+bump_rho), k, coupon, conversion_ratio, N, sigma, 'e')\n",
    "print(Exact_price)"
   ]
  },
  {
   "cell_type": "code",
   "execution_count": 592,
   "metadata": {
    "colab": {
     "base_uri": "https://localhost:8080/"
    },
    "id": "zee8CNoy32_P",
    "outputId": "866f1e2e-572e-441a-b5d2-1651cf52902f"
   },
   "outputs": [
    {
     "name": "stdout",
     "output_type": "stream",
     "text": [
      "Vega of the Convertible Bond: 69.7186\n"
     ]
    }
   ],
   "source": [
    "# Function to calculate Vega\n",
    "def calculate_vega(S0, F, T, r, k, coupon, conversion_ratio, N, sigma, AmeEur='e', bump_sigma=1/100):\n",
    "    bond_price_up = CRR_convertible_bond(S0, F, T, r, k, coupon, conversion_ratio, N, sigma + bump_sigma, AmeEur)\n",
    "    bond_price_down = CRR_convertible_bond(S0, F, T, r, k, coupon, conversion_ratio, N, sigma - bump_sigma, AmeEur)\n",
    "    vega = (bond_price_up - bond_price_down) / (2 * bump_sigma)\n",
    "    return vega\n",
    "\n",
    "# Calculate Vega\n",
    "vega = calculate_vega(S0, F, T, r, k, coupon, conversion_ratio, N, sigma, AmeEur='e')\n",
    "print(f\"Vega of the Convertible Bond: {vega:.4f}\")\n"
   ]
  },
  {
   "cell_type": "code",
   "execution_count": 593,
   "metadata": {
    "colab": {
     "base_uri": "https://localhost:8080/"
    },
    "id": "6yImnBWX7jq-",
    "outputId": "292eb8d1-bed8-4774-e6c7-d923926e31aa"
   },
   "outputs": [
    {
     "name": "stdout",
     "output_type": "stream",
     "text": [
      "132.4611396696892\n",
      "132.84226075839206\n"
     ]
    }
   ],
   "source": [
    "bump=1/100\n",
    "Taylor_approx = MKTPrice + vega * bump\n",
    "print(Taylor_approx)\n",
    "Exact_price=CRR_convertible_bond(S0, F, T, r, k, coupon, conversion_ratio, N, sigma+bump, 'e')\n",
    "print(Exact_price)"
   ]
  },
  {
   "cell_type": "code",
   "execution_count": 594,
   "metadata": {
    "colab": {
     "base_uri": "https://localhost:8080/"
    },
    "id": "o4PKYUXR32_Q",
    "outputId": "775d0f7c-57de-47b7-d437-420802fd0c6e"
   },
   "outputs": [
    {
     "name": "stdout",
     "output_type": "stream",
     "text": [
      "Gamma of the Convertible Bond: 0.0000\n"
     ]
    }
   ],
   "source": [
    "# Function to calculate Gamma\n",
    "def calculate_gamma(S0, F, T, r, k, coupon, conversion_ratio, N, sigma, AmeEur='e', bump_gamma=0.5/100): #medesimo bump del delta.\n",
    "    bond_price_up = CRR_convertible_bond(S0 + (S0*bump_gamma), F, T, r, k, coupon, conversion_ratio, N, sigma, AmeEur)\n",
    "    bond_price_mid = CRR_convertible_bond(S0, F, T, r, k, coupon, conversion_ratio, N, sigma, AmeEur)\n",
    "    bond_price_down = CRR_convertible_bond(S0 - (S0*bump_gamma), F, T, r, k, coupon, conversion_ratio, N, sigma, AmeEur)\n",
    "    # Calculate Gamma\n",
    "    gamma = (bond_price_up - (2 * bond_price_mid) + bond_price_down) / ((S0*bump_gamma) ** 2)\n",
    "    return gamma\n",
    "\n",
    "# Calculate Gamma\n",
    "gamma = calculate_gamma(S0, F, T, r, k, coupon, conversion_ratio, N, sigma, AmeEur='e')\n",
    "print(f\"Gamma of the Convertible Bond: {gamma:.4f}\")"
   ]
  },
  {
   "cell_type": "code",
   "execution_count": 595,
   "metadata": {
    "colab": {
     "base_uri": "https://localhost:8080/"
    },
    "id": "W_-GsCfJ8Jy_",
    "outputId": "1bbc50d6-8b18-4c68-9f47-d0008d00d182"
   },
   "outputs": [
    {
     "name": "stdout",
     "output_type": "stream",
     "text": [
      "131.7659917722593\n",
      "131.96776222594872\n"
     ]
    }
   ],
   "source": [
    "bump=0.5/100\n",
    "Taylor_approx = MKTPrice + delta * bump + 0.5 * gamma * (bump) ** 2\n",
    "print(Taylor_approx)\n",
    "Exact_price=CRR_convertible_bond(S0*(1+bump), F, T, r, k, coupon, conversion_ratio, N, sigma, 'e')\n",
    "print(Exact_price)"
   ]
  },
  {
   "cell_type": "code",
   "execution_count": 596,
   "metadata": {
    "colab": {
     "base_uri": "https://localhost:8080/"
    },
    "id": "aZdeJefr32_R",
    "outputId": "ba41856f-f211-4834-d471-9fe8f75062c1"
   },
   "outputs": [
    {
     "name": "stdout",
     "output_type": "stream",
     "text": [
      "Theta of the Convertible Bond: 7.0088\n"
     ]
    }
   ],
   "source": [
    "# Function to calculate Theta\n",
    "def calculate_theta(S0, F, T, r, k, coupon, conversion_ratio, N, sigma, AmeEur='e', bump_theta=1/360):\n",
    "    bond_price_shorter_time = CRR_convertible_bond(S0, F, T - bump_theta, r, k, coupon, conversion_ratio, N, sigma, AmeEur)\n",
    "    bond_price_current_time = CRR_convertible_bond(S0, F, T, r, k, coupon, conversion_ratio, N, sigma, AmeEur)\n",
    "    theta = (bond_price_shorter_time - bond_price_current_time) / bump_theta\n",
    "    return theta\n",
    "\n",
    "# Calculate Theta\n",
    "theta = calculate_theta(S0, F, T, r, k, coupon, conversion_ratio, N, sigma, AmeEur='e')\n",
    "print(f\"Theta of the Convertible Bond: {theta:.4f}\")\n"
   ]
  },
  {
   "cell_type": "code",
   "execution_count": 597,
   "metadata": {
    "colab": {
     "base_uri": "https://localhost:8080/"
    },
    "id": "5vCQipO58piQ",
    "outputId": "95772835-66ef-44f5-bd3c-01d8c68068b9"
   },
   "outputs": [
    {
     "name": "stdout",
     "output_type": "stream",
     "text": [
      "131.7834225337996\n",
      "131.7834225337996\n"
     ]
    }
   ],
   "source": [
    "bump=1/360\n",
    "Taylor_approx=MKTPrice + theta * bump\n",
    "print(Taylor_approx)\n",
    "Exact_price=CRR_convertible_bond(S0, F, T-bump, r, k, coupon, conversion_ratio, N, sigma, 'e')\n",
    "print(Exact_price)"
   ]
  },
  {
   "cell_type": "code",
   "execution_count": null,
   "metadata": {
    "id": "WjYnTtzY32_T"
   },
   "outputs": [],
   "source": [
    "# Function to calculate tree parameters (u, d, p) for different models\n",
    "def calculate_tree_parameters(r, q, sigma, dt, model_type, drift=0):\n",
    "    if model_type == 'CRR':\n",
    "        u = np.exp(sigma * np.sqrt(dt))\n",
    "        d = 1 / u\n",
    "        p = (np.exp(r * dt) - d) / (u - d)\n",
    "    elif model_type == 'CRR_Drift':\n",
    "        u = np.exp(sigma * np.sqrt(dt))\n",
    "        d = 1 / u\n",
    "        p = (np.exp((r + drift) * dt) - d) / (u - d)\n",
    "    elif model_type == 'Jarrow-Rudd':\n",
    "        u = np.exp((r - q - 0.5 * sigma ** 2) * dt + sigma * np.sqrt(dt))\n",
    "        d = np.exp((r - q - 0.5 * sigma ** 2) * dt - sigma * np.sqrt(dt))\n",
    "        p = 0.5\n",
    "    elif model_type == 'Tian':\n",
    "        eta=np.exp(dt*sigma**2)\n",
    "        u=0.5*np.exp(r*dt)*eta*(eta+1+np.sqrt(eta**2+2*eta-3))\n",
    "        d=0.5*np.exp(r*dt)*eta*(eta+1-np.sqrt(eta**2+2*eta-3))\n",
    "        p=(np.exp((b)*dt)-d)/(u-d)\n",
    "    elif model_type == 'Haahtela':\n",
    "        u = np.exp(r * dt) * (1 + np.sqrt(np.exp((sigma ** 2) * dt) - 1))\n",
    "        d = np.exp(r * dt) * (1 - np.sqrt(np.exp((sigma ** 2) * dt) - 1))\n",
    "        p = (np.exp((r - q) * dt) - d) / (u - d)\n",
    "    else:\n",
    "        raise ValueError(\"Unknown model type provided.\")\n",
    "    return u, d, p\n",
    "    \n",
    "def LatticeConvertibleBond(S0, F, T, r, k, coupon, conversion_ratio, N, sigma, model_type='', AmeEur='e', q=0, drift=0):\n",
    "    dt = T / N  # Time step\n",
    "\n",
    "    # Calculate u, d, p using the specified model type\n",
    "    u, d, p = calculate_tree_parameters(r, q, sigma, dt, model_type, drift)\n",
    "\n",
    "    # Create the binomial stock price tree\n",
    "    StockPrice = np.zeros((N + 1, N + 1))\n",
    "    for i in range(N + 1):\n",
    "        for j in range(i + 1):\n",
    "            StockPrice[j, i] = S0 * (u ** j) * (d ** (i - j))\n",
    "\n",
    "    # Create the bond price tree (including coupon payments)\n",
    "    BondPrice = np.zeros((N + 1, N + 1))\n",
    "    # Create the conversion probability tree\n",
    "    ConversionProbability = np.zeros((N + 1, N + 1))\n",
    "\n",
    "    # Calculate bond prices and conversion probabilities at maturity\n",
    "    for j in range(N + 1):\n",
    "        stock_price = StockPrice[j, N]\n",
    "        bond_value_at_maturity = max(conversion_ratio * stock_price, F + coupon)\n",
    "        BondPrice[j, N] = bond_value_at_maturity\n",
    "        ConversionProbability[j, N] = 1 if conversion_ratio * stock_price > F + coupon else 0\n",
    "\n",
    "    # Initialize coupon timing and time management\n",
    "    CouponTime = T  # Initial coupon time matches maturity\n",
    "\n",
    "    # Backward calculation for bond price and conversion probability\n",
    "    for i in range(N - 1, -1, -1):\n",
    "        if CouponTime != (T - np.ceil((N - i + 1) * dt)):\n",
    "            CouponPayment = 1  # It's time to pay a coupon\n",
    "            CouponTime = T - np.ceil((N - i) * dt)\n",
    "            Time = CouponTime - dt * i\n",
    "        else:\n",
    "            CouponPayment = 0\n",
    "\n",
    "        for j in range(i + 1):\n",
    "            stock_price = StockPrice[j, i]\n",
    "\n",
    "            # Dynamic discount factors (ru, rd)\n",
    "            ru = ConversionProbability[j+1, i+1] * r + (1 - ConversionProbability[j+1, i+1]) * (r + k)\n",
    "            rd = ConversionProbability[j, i+1] * r + (1 - ConversionProbability[j, i+1]) * (r + k)\n",
    "\n",
    "            if CouponPayment == 1:\n",
    "                CouponValue = coupon * (p * np.exp(-ru * Time) + (1 - p) * np.exp(-rd * Time))\n",
    "            else:\n",
    "                CouponValue = 0\n",
    "\n",
    "            hold_bond_value = CouponValue + p * BondPrice[j + 1, i + 1] * np.exp(-ru * dt) \n",
    "            + (1 - p) * BondPrice[j, i + 1] * np.exp(-rd * dt)\n",
    "            convert_to_stock_value = conversion_ratio * stock_price\n",
    "\n",
    "            # Modify for American or European option style\n",
    "            if AmeEur == 'a':  # American option: can convert at any time\n",
    "                BondPrice[j, i] = max(hold_bond_value, convert_to_stock_value)\n",
    "\n",
    "            else:  # European option: can only convert at maturity\n",
    "                BondPrice[j, i] = hold_bond_value\n",
    "\n",
    "            # Update the conversion probability based on the style\n",
    "            if AmeEur == 'a' and BondPrice[j, i] == convert_to_stock_value:\n",
    "                ConversionProbability[j, i] = 1\n",
    "            else:\n",
    "                ConversionProbability[j, i] = p * ConversionProbability[j + 1, i + 1] \n",
    "                + (1 - p) * ConversionProbability[j, i + 1]\n",
    "\n",
    "    return BondPrice[0,0]\n"
   ]
  },
  {
   "cell_type": "code",
   "execution_count": null,
   "metadata": {},
   "outputs": [],
   "source": [
    "# Delta calculation\n",
    "def calculate_delta(S0, F, T, r, k, coupon, conversion_ratio, N, sigma, model_type, AmeEur='e', bump=0.5/100):\n",
    "    bond_price_up = LatticeConvertibleBond(S0 + S0 * bump, F, T, r, k, coupon, conversion_ratio, N, sigma, model_type, AmeEur)\n",
    "    bond_price_down = LatticeConvertibleBond(S0 - S0 * bump, F, T, r, k, coupon, conversion_ratio, N, sigma, model_type, AmeEur)\n",
    "    delta = (bond_price_up - bond_price_down) / (2 * bump * 100)\n",
    "    return delta\n",
    "\n",
    "# Gamma calculation\n",
    "def calculate_gamma(S0, F, T, r, k, coupon, conversion_ratio, N, sigma, model_type, AmeEur='e', bump=0.5/100):\n",
    "    bond_price_up = LatticeConvertibleBond(S0 + S0 * bump, F, T, r, k, coupon, conversion_ratio, N, sigma, model_type, AmeEur)\n",
    "    bond_price_mid = LatticeConvertibleBond(S0, F, T, r, k, coupon, conversion_ratio, N, sigma, model_type, AmeEur)\n",
    "    bond_price_down = LatticeConvertibleBond(S0 - S0 * bump, F, T, r, k, coupon, conversion_ratio, N, sigma, model_type, AmeEur)\n",
    "    gamma = (bond_price_up - (2 * bond_price_mid) + bond_price_down) / ((S0*bump) ** 2)\n",
    "    return gamma\n",
    "\n",
    "# Rho calculation\n",
    "def calculate_rho(S0, F, T, r, k, coupon, conversion_ratio, N, sigma, model_type, AmeEur='e', bump=1/10000):\n",
    "    bond_price_up = LatticeConvertibleBond(S0, F, T, r + bump, k, coupon, conversion_ratio, N, sigma, model_type, AmeEur)\n",
    "    bond_price_down = LatticeConvertibleBond(S0, F, T, r - bump, k, coupon, conversion_ratio, N, sigma, model_type, AmeEur)\n",
    "    rho = (bond_price_up - bond_price_down) / (2 * bump)\n",
    "    return rho\n",
    "\n",
    "# Vega calculation\n",
    "def calculate_vega(S0, F, T, r, k, coupon, conversion_ratio, N, sigma, model_type, AmeEur='e', bump=1/100):\n",
    "    bond_price_up = LatticeConvertibleBond(S0, F, T, r, k, coupon, conversion_ratio, N, sigma + bump, model_type, AmeEur)\n",
    "    bond_price_down = LatticeConvertibleBond(S0, F, T, r, k, coupon, conversion_ratio, N, sigma - bump, model_type, AmeEur)\n",
    "    vega = (bond_price_up - bond_price_down) / (2 * bump)\n",
    "    return vega\n",
    "\n",
    "# Theta calculation\n",
    "def calculate_theta(S0, F, T, r, k, coupon, conversion_ratio, N, sigma, model_type, AmeEur='e', bump=1/360):\n",
    "    bond_price_shorter_time = LatticeConvertibleBond(S0, F, T - bump, r, k, coupon, conversion_ratio, N, sigma, model_type, AmeEur)\n",
    "    bond_price_current_time = LatticeConvertibleBond(S0, F, T, r, k, coupon, conversion_ratio, N, sigma, model_type, AmeEur)\n",
    "    theta = (bond_price_shorter_time - bond_price_current_time) / bump\n",
    "    return theta\n"
   ]
  },
  {
   "cell_type": "code",
   "execution_count": null,
   "metadata": {},
   "outputs": [
    {
     "name": "stdout",
     "output_type": "stream",
     "text": [
      "CRR:\n",
      "Market Price: 131.7639536869\n",
      "Delta: 0.4076\n",
      "Gamma: 0.0000\n",
      "Rho: -224.2896\n",
      "Vega: 69.7186\n",
      "Theta: 7.0088\n",
      "Δ: Taylor Approximation: 131.7659917723; Exact price: 131.9677622259;\n",
      "𝜌: Taylor Approximation: 131.7415247219; Exact price: 131.7623837229;\n",
      "𝜗: Taylor Approximation: 132.4611396697; Exact price: 132.8422607584;\n",
      "Γ: Taylor Approximation: 131.7659917723; Exact price: 131.9677622259;\n",
      "Θ: Taylor Approximation: 131.7834225338; Exact price: 131.7834225338;\n"
     ]
    }
   ],
   "source": [
    "# Market Price\n",
    "MKTPrice = LatticeConvertibleBond(S0, F, T, r, k, coupon, conversion_ratio, N, \n",
    "                                  sigma, model_type='CRR', AmeEur='e')\n",
    "print(f'CRR:')\n",
    "print(f\"Market Price: {MKTPrice:.10f}\")\n",
    "\n",
    "# Calculate Greeks\n",
    "delta = calculate_delta(S0, F, T, r, k, coupon, conversion_ratio, N, sigma, \n",
    "                        model_type='CRR', AmeEur='e')\n",
    "gamma = calculate_gamma(S0, F, T, r, k, coupon, conversion_ratio, N, sigma, \n",
    "                        model_type='CRR', AmeEur='e')\n",
    "rho = calculate_rho(S0, F, T, r, k, coupon, conversion_ratio, N, sigma, \n",
    "                    model_type='CRR', AmeEur='e')\n",
    "vega = calculate_vega(S0, F, T, r, k, coupon, conversion_ratio, N, sigma,\n",
    "                      model_type='CRR', AmeEur='e')\n",
    "theta = calculate_theta(S0, F, T, r, k, coupon, conversion_ratio, N, sigma, \n",
    "                        model_type='CRR', AmeEur='e')\n",
    "\n",
    "print(f\"Delta: {delta:.4f}\")\n",
    "print(f\"Gamma: {gamma:.4f}\")\n",
    "print(f\"Rho: {rho:.4f}\")\n",
    "print(f\"Vega: {vega:.4f}\")\n",
    "print(f\"Theta: {theta:.4f}\")\n",
    "\n",
    "bump=0.5/100\n",
    "Taylor_approx=MKTPrice + delta * bump\n",
    "Exact_price=LatticeConvertibleBond(S0*(1+bump), F, T, r, k, coupon, conversion_ratio,\n",
    "                                   N, sigma, model_type='CRR', AmeEur='e')\n",
    "print(f\"Δ:\",f\"Taylor Approximation: {Taylor_approx:.10f};\",f\"Exact price: \n",
    "      {Exact_price:.10f};\")\n",
    "\n",
    "bump=1/10000\n",
    "Taylor_approx = MKTPrice + rho * bump\n",
    "Exact_price=LatticeConvertibleBond(S0, F, T, r*(1+bump), k, coupon, conversion_ratio, \n",
    "                                   N, sigma, model_type='CRR', AmeEur='e')\n",
    "print(f\"𝜌:\",f\"Taylor Approximation: {Taylor_approx:.10f};\",f\"Exact price: \n",
    "      {Exact_price:.10f};\")\n",
    "\n",
    "bump=1/100\n",
    "Taylor_approx = MKTPrice + vega * bump\n",
    "Exact_price=LatticeConvertibleBond(S0, F, T, r, k, coupon, conversion_ratio, N, \n",
    "                                   sigma+bump, model_type='CRR', AmeEur='e')\n",
    "print(f\"𝜗:\",f\"Taylor Approximation: {Taylor_approx:.10f};\",f\"Exact price: \n",
    "      {Exact_price:.10f};\")\n",
    "\n",
    "bump=0.5/100\n",
    "Taylor_approx = MKTPrice + delta * bump + 0.5 * gamma * (bump) ** 2\n",
    "Exact_price=LatticeConvertibleBond(S0*(1+bump), F, T, r, k, coupon, conversion_ratio, \n",
    "                                   N, sigma, model_type='CRR', AmeEur='e')\n",
    "print(f\"Γ:\",f\"Taylor Approximation: {Taylor_approx:.10f};\",f\"Exact price: \n",
    "      {Exact_price:.10f};\")\n",
    "\n",
    "bump=1/360\n",
    "Taylor_approx=MKTPrice + theta * bump\n",
    "Exact_price=LatticeConvertibleBond(S0, F, T-bump, r, k, coupon, conversion_ratio, \n",
    "                                   N, sigma, model_type='CRR', AmeEur='e')\n",
    "print(f\"Θ:\",f\"Taylor Approximation: {Taylor_approx:.10f};\",f\"Exact price: \n",
    "      {Exact_price:.10f};\")\n"
   ]
  },
  {
   "cell_type": "code",
   "execution_count": 601,
   "metadata": {},
   "outputs": [
    {
     "name": "stdout",
     "output_type": "stream",
     "text": [
      "Tian:\n",
      "Market Price: 131.9799\n",
      "Delta: 0.4176\n",
      "Gamma: -0.0000\n",
      "Rho: -564.8080\n",
      "Vega: 43.1465\n",
      "Theta: 7.6547\n",
      "Δ: Taylor Approximation: 131.9819653953; Exact price: 132.1886575393;\n",
      "𝜌: Taylor Approximation: 131.9233967914; Exact price: 131.9759239768;\n",
      "𝜗: Taylor Approximation: 132.4113425214; Exact price: 132.4072884689;\n",
      "Γ: Taylor Approximation: 131.9819653953; Exact price: 132.1886575393;\n",
      "Θ: Taylor Approximation: 132.0011405128; Exact price: 132.0011405128;\n"
     ]
    }
   ],
   "source": [
    "# Market Price\n",
    "MKTPrice = LatticeConvertibleBond(S0, F, T, r, k, coupon, conversion_ratio, N, sigma, model_type='Tian', AmeEur='e')\n",
    "print(f'Tian:')\n",
    "print(f\"Market Price: {MKTPrice:.4f}\")\n",
    "\n",
    "# Calculate Greeks                                                                                           \n",
    "delta = calculate_delta(S0, F, T, r, k, coupon, conversion_ratio, N, sigma, model_type='Tian', AmeEur='e')\n",
    "gamma = calculate_gamma(S0, F, T, r, k, coupon, conversion_ratio, N, sigma, model_type='Tian', AmeEur='e')\n",
    "rho = calculate_rho(S0, F, T, r, k, coupon, conversion_ratio, N, sigma, model_type='Tian', AmeEur='e')\n",
    "vega = calculate_vega(S0, F, T, r, k, coupon, conversion_ratio, N, sigma, model_type='Tian', AmeEur='e')\n",
    "theta = calculate_theta(S0, F, T, r, k, coupon, conversion_ratio, N, sigma, model_type='Tian', AmeEur='e')\n",
    "\n",
    "print(f\"Delta: {delta:.4f}\")\n",
    "print(f\"Gamma: {gamma:.4f}\")\n",
    "print(f\"Rho: {rho:.4f}\")\n",
    "print(f\"Vega: {vega:.4f}\")\n",
    "print(f\"Theta: {theta:.4f}\")\n",
    "\n",
    "bump=0.5/100\n",
    "Taylor_approx=MKTPrice + delta * bump\n",
    "Exact_price=LatticeConvertibleBond(S0*(1+bump), F, T, r, k, coupon, conversion_ratio, N, sigma, model_type='Tian', AmeEur='e')\n",
    "print(f\"Δ:\",f\"Taylor Approximation: {Taylor_approx:.10f};\",f\"Exact price: {Exact_price:.10f};\")\n",
    "\n",
    "bump=1/10000\n",
    "Taylor_approx = MKTPrice + rho * bump\n",
    "Exact_price=LatticeConvertibleBond(S0, F, T, r*(1+bump), k, coupon, conversion_ratio, N, sigma, model_type='Tian', AmeEur='e')\n",
    "print(f\"𝜌:\",f\"Taylor Approximation: {Taylor_approx:.10f};\",f\"Exact price: {Exact_price:.10f};\")\n",
    "\n",
    "bump=1/100\n",
    "Taylor_approx = MKTPrice + vega * bump\n",
    "Exact_price=LatticeConvertibleBond(S0, F, T, r, k, coupon, conversion_ratio, N, sigma+bump, model_type='Tian', AmeEur='e')\n",
    "print(f\"𝜗:\",f\"Taylor Approximation: {Taylor_approx:.10f};\",f\"Exact price: {Exact_price:.10f};\")\n",
    "\n",
    "bump=0.5/100\n",
    "Taylor_approx = MKTPrice + delta * bump + 0.5 * gamma * (bump) ** 2\n",
    "Exact_price=LatticeConvertibleBond(S0*(1+bump), F, T, r, k, coupon, conversion_ratio, N, sigma, model_type='Tian', AmeEur='e')\n",
    "print(f\"Γ:\",f\"Taylor Approximation: {Taylor_approx:.10f};\",f\"Exact price: {Exact_price:.10f};\")\n",
    "\n",
    "bump=1/360\n",
    "Taylor_approx=MKTPrice + theta * bump\n",
    "Exact_price=LatticeConvertibleBond(S0, F, T-bump, r, k, coupon, conversion_ratio, N, sigma, model_type='Tian', AmeEur='e')\n",
    "print(f\"Θ:\",f\"Taylor Approximation: {Taylor_approx:.10f};\",f\"Exact price: {Exact_price:.10f};\")"
   ]
  },
  {
   "cell_type": "code",
   "execution_count": 602,
   "metadata": {},
   "outputs": [
    {
     "name": "stdout",
     "output_type": "stream",
     "text": [
      "CRR_Drift:\n",
      "Market Price: 131.7640\n",
      "Delta: 0.4076\n",
      "Gamma: 0.0000\n",
      "Rho: -224.2896\n",
      "Vega: 69.7186\n",
      "Theta: 7.0088\n",
      "Δ: Taylor Approximation: 131.7659917723; Exact price: 131.9677622259;\n",
      "𝜌: Taylor Approximation: 131.7415247219; Exact price: 131.7623837229;\n",
      "𝜗: Taylor Approximation: 132.4611396697; Exact price: 132.8422607584;\n",
      "Γ: Taylor Approximation: 131.7659917723; Exact price: 131.9677622259;\n",
      "Θ: Taylor Approximation: 131.7834225338; Exact price: 131.7834225338;\n"
     ]
    }
   ],
   "source": [
    "# Market Price\n",
    "MKTPrice = LatticeConvertibleBond(S0, F, T, r, k, coupon, conversion_ratio, N, sigma, model_type='CRR_Drift', AmeEur='e')\n",
    "print(f'CRR_Drift:')\n",
    "print(f\"Market Price: {MKTPrice:.4f}\")\n",
    "\n",
    "# Calculate Greeks\n",
    "delta = calculate_delta(S0, F, T, r, k, coupon, conversion_ratio, N, sigma, model_type='CRR_Drift', AmeEur='e')\n",
    "gamma = calculate_gamma(S0, F, T, r, k, coupon, conversion_ratio, N, sigma, model_type='CRR_Drift', AmeEur='e')\n",
    "rho = calculate_rho(S0, F, T, r, k, coupon, conversion_ratio, N, sigma, model_type='CRR_Drift', AmeEur='e')\n",
    "vega = calculate_vega(S0, F, T, r, k, coupon, conversion_ratio, N, sigma, model_type='CRR_Drift', AmeEur='e')\n",
    "theta = calculate_theta(S0, F, T, r, k, coupon, conversion_ratio, N, sigma, model_type='CRR_Drift', AmeEur='e')\n",
    "\n",
    "print(f\"Delta: {delta:.4f}\")\n",
    "print(f\"Gamma: {gamma:.4f}\")\n",
    "print(f\"Rho: {rho:.4f}\")\n",
    "print(f\"Vega: {vega:.4f}\")\n",
    "print(f\"Theta: {theta:.4f}\")\n",
    "\n",
    "bump=0.5/100\n",
    "Taylor_approx=MKTPrice + delta * bump\n",
    "Exact_price=LatticeConvertibleBond(S0*(1+bump), F, T, r, k, coupon, conversion_ratio, N, sigma, model_type='CRR_Drift', AmeEur='e')\n",
    "print(f\"Δ:\",f\"Taylor Approximation: {Taylor_approx:.10f};\",f\"Exact price: {Exact_price:.10f};\")\n",
    "\n",
    "bump=1/10000\n",
    "Taylor_approx = MKTPrice + rho * bump\n",
    "Exact_price=LatticeConvertibleBond(S0, F, T, r*(1+bump), k, coupon, conversion_ratio, N, sigma, model_type='CRR_Drift', AmeEur='e')\n",
    "print(f\"𝜌:\",f\"Taylor Approximation: {Taylor_approx:.10f};\",f\"Exact price: {Exact_price:.10f};\")\n",
    "\n",
    "bump=1/100\n",
    "Taylor_approx = MKTPrice + vega * bump\n",
    "Exact_price=LatticeConvertibleBond(S0, F, T, r, k, coupon, conversion_ratio, N, sigma+bump, model_type='CRR_Drift', AmeEur='e')\n",
    "print(f\"𝜗:\",f\"Taylor Approximation: {Taylor_approx:.10f};\",f\"Exact price: {Exact_price:.10f};\")\n",
    "\n",
    "bump=0.5/100\n",
    "Taylor_approx = MKTPrice + delta * bump + 0.5 * gamma * (bump) ** 2\n",
    "Exact_price=LatticeConvertibleBond(S0*(1+bump), F, T, r, k, coupon, conversion_ratio, N, sigma, model_type='CRR_Drift', AmeEur='e')\n",
    "print(f\"Γ:\",f\"Taylor Approximation: {Taylor_approx:.10f};\",f\"Exact price: {Exact_price:.10f};\")\n",
    "\n",
    "bump=1/360\n",
    "Taylor_approx=MKTPrice + theta * bump\n",
    "Exact_price=LatticeConvertibleBond(S0, F, T-bump, r, k, coupon, conversion_ratio, N, sigma, model_type='CRR_Drift', AmeEur='e')\n",
    "print(f\"Θ:\",f\"Taylor Approximation: {Taylor_approx:.10f};\",f\"Exact price: {Exact_price:.10f};\")"
   ]
  },
  {
   "cell_type": "code",
   "execution_count": 603,
   "metadata": {},
   "outputs": [
    {
     "name": "stdout",
     "output_type": "stream",
     "text": [
      "Jarrow-Rudd:\n",
      "Market Price Jarrow-Rudd: 132.2022\n",
      "Delta: 0.4290\n",
      "Gamma: -0.0000\n",
      "Rho: -285.3329\n",
      "Vega: 62.4383\n",
      "Theta: 7.1489\n",
      "Δ: Taylor Approximation: 132.2043524976; Exact price: 132.4167172434;\n",
      "𝜌: Taylor Approximation: 132.1736741050; Exact price: 132.2002100988;\n",
      "𝜗: Taylor Approximation: 132.8265907187; Exact price: 132.8249580816;\n",
      "Γ: Taylor Approximation: 132.2043524976; Exact price: 132.4167172434;\n",
      "Θ: Taylor Approximation: 132.2220653195; Exact price: 132.2220653195;\n"
     ]
    }
   ],
   "source": [
    "# Market Price\n",
    "MKTPrice = LatticeConvertibleBond(S0, F, T, r, k, coupon, conversion_ratio, N, sigma, model_type='Jarrow-Rudd', AmeEur='e')\n",
    "print(f'Jarrow-Rudd:')\n",
    "print(f\"Market Price Jarrow-Rudd: {MKTPrice:.4f}\")\n",
    "\n",
    "# Calculate Greeks\n",
    "delta = calculate_delta(S0, F, T, r, k, coupon, conversion_ratio, N, sigma, model_type='Jarrow-Rudd', AmeEur='e')\n",
    "gamma = calculate_gamma(S0, F, T, r, k, coupon, conversion_ratio, N, sigma, model_type='Jarrow-Rudd', AmeEur='e')\n",
    "rho = calculate_rho(S0, F, T, r, k, coupon, conversion_ratio, N, sigma, model_type='Jarrow-Rudd', AmeEur='e')\n",
    "vega = calculate_vega(S0, F, T, r, k, coupon, conversion_ratio, N, sigma, model_type='Jarrow-Rudd', AmeEur='e')\n",
    "theta = calculate_theta(S0, F, T, r, k, coupon, conversion_ratio, N, sigma, model_type='Jarrow-Rudd', AmeEur='e')\n",
    "\n",
    "print(f\"Delta: {delta:.4f}\")\n",
    "print(f\"Gamma: {gamma:.4f}\")\n",
    "print(f\"Rho: {rho:.4f}\")\n",
    "print(f\"Vega: {vega:.4f}\")\n",
    "print(f\"Theta: {theta:.4f}\")\n",
    "\n",
    "bump=0.5/100\n",
    "Taylor_approx=MKTPrice + delta * bump\n",
    "Exact_price=LatticeConvertibleBond(S0*(1+bump), F, T, r, k, coupon, conversion_ratio, N, sigma, model_type='Jarrow-Rudd', AmeEur='e')\n",
    "print(f\"Δ:\",f\"Taylor Approximation: {Taylor_approx:.10f};\",f\"Exact price: {Exact_price:.10f};\")\n",
    "\n",
    "bump=1/10000\n",
    "Taylor_approx = MKTPrice + rho * bump\n",
    "Exact_price=LatticeConvertibleBond(S0, F, T, r*(1+bump), k, coupon, conversion_ratio, N, sigma, model_type='Jarrow-Rudd', AmeEur='e')\n",
    "print(f\"𝜌:\",f\"Taylor Approximation: {Taylor_approx:.10f};\",f\"Exact price: {Exact_price:.10f};\")\n",
    "\n",
    "bump=1/100\n",
    "Taylor_approx = MKTPrice + vega * bump\n",
    "Exact_price=LatticeConvertibleBond(S0, F, T, r, k, coupon, conversion_ratio, N, sigma+bump, model_type='Jarrow-Rudd', AmeEur='e')\n",
    "print(f\"𝜗:\",f\"Taylor Approximation: {Taylor_approx:.10f};\",f\"Exact price: {Exact_price:.10f};\")\n",
    "\n",
    "bump=0.5/100\n",
    "Taylor_approx = MKTPrice + delta * bump + 0.5 * gamma * (bump) ** 2\n",
    "Exact_price=LatticeConvertibleBond(S0*(1+bump), F, T, r, k, coupon, conversion_ratio, N, sigma, model_type='Jarrow-Rudd', AmeEur='e')\n",
    "print(f\"Γ:\",f\"Taylor Approximation: {Taylor_approx:.10f};\",f\"Exact price: {Exact_price:.10f};\")\n",
    "\n",
    "bump=1/360\n",
    "Taylor_approx=MKTPrice + theta * bump\n",
    "Exact_price=LatticeConvertibleBond(S0, F, T-bump, r, k, coupon, conversion_ratio, N, sigma, model_type='Jarrow-Rudd', AmeEur='e')\n",
    "print(f\"Θ:\",f\"Taylor Approximation: {Taylor_approx:.10f};\",f\"Exact price: {Exact_price:.10f};\")"
   ]
  },
  {
   "cell_type": "code",
   "execution_count": null,
   "metadata": {},
   "outputs": [
    {
     "name": "stdout",
     "output_type": "stream",
     "text": [
      "Haahtela:\n",
      "Market Price: 132.2086\n",
      "Delta: 0.4291\n",
      "Gamma: 0.0000\n",
      "Rho: -285.3329\n",
      "Vega: 62.5352\n",
      "Theta: 7.1470\n",
      "Δ: Taylor Approximation: 132.2107577757; Exact price: 132.4231542261;\n",
      "𝜌: Taylor Approximation: 132.1800790629; Exact price: 132.2066150567;\n",
      "𝜗: Taylor Approximation: 132.8339641035; Exact price: 132.8323795977;\n",
      "Γ: Taylor Approximation: 132.2107577757; Exact price: 132.4231542261;\n",
      "Θ: Taylor Approximation: 132.2284650351; Exact price: 132.2284650351;\n"
     ]
    }
   ],
   "source": [
    "# Market Price\n",
    "MKTPrice = LatticeConvertibleBond(S0, F, T, r, k, coupon, conversion_ratio, N, sigma, model_type='Haahtela', AmeEur='e')\n",
    "print(f'Haahtela:')\n",
    "print(f\"Market Price: {MKTPrice:.4f}\")\n",
    "\n",
    "# Calculate Greeks\n",
    "delta = calculate_delta(S0, F, T, r, k, coupon, conversion_ratio, N, sigma, model_type='Haahtela', AmeEur='e')\n",
    "gamma = calculate_gamma(S0, F, T, r, k, coupon, conversion_ratio, N, sigma, model_type='Haahtela', AmeEur='e')\n",
    "rho = calculate_rho(S0, F, T, r, k, coupon, conversion_ratio, N, sigma, model_type='Haahtela', AmeEur='e')\n",
    "vega = calculate_vega(S0, F, T, r, k, coupon, conversion_ratio, N, sigma, model_type='Haahtela', AmeEur='e')\n",
    "theta = calculate_theta(S0, F, T, r, k, coupon, conversion_ratio, N, sigma, model_type='Haahtela', AmeEur='e')\n",
    "\n",
    "print(f\"Delta: {delta:.4f}\")\n",
    "print(f\"Gamma: {gamma:.4f}\")\n",
    "print(f\"Rho: {rho:.4f}\")\n",
    "print(f\"Vega: {vega:.4f}\")  \n",
    "print(f\"Theta: {theta:.4f}\")\n",
    "\n",
    "bump=0.5/100\n",
    "Taylor_approx=MKTPrice + delta * bump\n",
    "Exact_price=LatticeConvertibleBond(S0*(1+bump), F, T, r, k, coupon, conversion_ratio, N, sigma, model_type='Haahtela', AmeEur='e')\n",
    "print(f\"Δ:\",f\"Taylor Approximation: {Taylor_approx:.10f};\",f\"Exact price: {Exact_price:.10f};\")\n",
    "\n",
    "bump=1/10000\n",
    "Taylor_approx = MKTPrice + rho * bump\n",
    "Exact_price=LatticeConvertibleBond(S0, F, T, r*(1+bump), k, coupon, conversion_ratio, N, sigma, model_type='Haahtela', AmeEur='e')\n",
    "print(f\"𝜌:\",f\"Taylor Approximation: {Taylor_approx:.10f};\",f\"Exact price: {Exact_price:.10f};\")\n",
    "\n",
    "bump=1/100\n",
    "Taylor_approx = MKTPrice + vega * bump\n",
    "Exact_price=LatticeConvertibleBond(S0, F, T, r, k, coupon, conversion_ratio, N, sigma+bump, model_type='Haahtela', AmeEur='e')\n",
    "print(f\"𝜗:\",f\"Taylor Approximation: {Taylor_approx:.10f};\",f\"Exact price: {Exact_price:.10f};\")\n",
    "\n",
    "bump=0.5/100\n",
    "Taylor_approx = MKTPrice + delta * bump + 0.5 * gamma * (bump) ** 2\n",
    "Exact_price=LatticeConvertibleBond(S0*(1+bump), F, T, r, k, coupon, conversion_ratio, N, sigma, model_type='Haahtela', AmeEur='e')\n",
    "print(f\"Γ:\",f\"Taylor Approximation: {Taylor_approx:.10f};\",f\"Exact price: {Exact_price:.10f};\")\n",
    "\n",
    "bump=1/360\n",
    "Taylor_approx=MKTPrice + theta * bump\n",
    "Exact_price=LatticeConvertibleBond(S0, F, T-bump, r, k, coupon, conversion_ratio, N, sigma, model_type='Haahtela', AmeEur='e')\n",
    "print(f\"Θ:\",f\"Taylor Approximation: {Taylor_approx:.10f};\",f\"Exact price: {Exact_price:.10f};\")"
   ]
  }
 ],
 "metadata": {
  "colab": {
   "provenance": []
  },
  "kernelspec": {
   "display_name": "Python 3",
   "language": "python",
   "name": "python3"
  },
  "language_info": {
   "codemirror_mode": {
    "name": "ipython",
    "version": 3
   },
   "file_extension": ".py",
   "mimetype": "text/x-python",
   "name": "python",
   "nbconvert_exporter": "python",
   "pygments_lexer": "ipython3",
   "version": "3.12.2"
  }
 },
 "nbformat": 4,
 "nbformat_minor": 0
}
